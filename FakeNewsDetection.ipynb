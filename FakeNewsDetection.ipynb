{
  "nbformat": 4,
  "nbformat_minor": 0,
  "metadata": {
    "colab": {
      "name": "FakeNewsDetection.ipynb",
      "provenance": [],
      "include_colab_link": true
    },
    "kernelspec": {
      "name": "python3",
      "display_name": "Python 3"
    },
    "language_info": {
      "name": "python"
    }
  },
  "cells": [
    {
      "cell_type": "markdown",
      "metadata": {
        "id": "view-in-github",
        "colab_type": "text"
      },
      "source": [
        "<a href=\"https://colab.research.google.com/github/Chirag-Mathur/FakeNewsDetection/blob/main/FakeNewsDetection.ipynb\" target=\"_parent\"><img src=\"https://colab.research.google.com/assets/colab-badge.svg\" alt=\"Open In Colab\"/></a>"
      ]
    },
    {
      "cell_type": "markdown",
      "metadata": {
        "id": "XhCC7OH1Royd"
      },
      "source": [
        "Importing Libraries"
      ]
    },
    {
      "cell_type": "code",
      "metadata": {
        "id": "FDvAmmmeJ566"
      },
      "source": [
        "import pandas as pd\n",
        "import itertools\n",
        "from sklearn.model_selection import train_test_split\n",
        "from sklearn.feature_extraction.text import TfidfVectorizer\n",
        "from sklearn.linear_model import PassiveAggressiveClassifier\n",
        "from sklearn.metrics import accuracy_score, confusion_matrix"
      ],
      "execution_count": null,
      "outputs": []
    },
    {
      "cell_type": "markdown",
      "metadata": {
        "id": "VSTtcSr5UC1R"
      },
      "source": [
        "Importing Dataset"
      ]
    },
    {
      "cell_type": "code",
      "metadata": {
        "id": "IoFqfm8QUFtN"
      },
      "source": [
        "real = pd.read_csv(\"True-1.csv\")\n",
        "\n",
        "fake = pd.read_csv(\"Fake.csv\")"
      ],
      "execution_count": null,
      "outputs": []
    },
    {
      "cell_type": "code",
      "metadata": {
        "id": "0jR_HQuyejYK",
        "colab": {
          "base_uri": "https://localhost:8080/",
          "height": 692
        },
        "outputId": "14513c25-22d4-46fe-9c67-484b86116ee3"
      },
      "source": [
        "real['target'] = 'real'\n",
        "print(real)\n",
        "fake['target'] = 'fake'\n",
        "print(fake)\n",
        "#News dataset\n",
        "df = pd.concat([real, fake]).reset_index(drop = True,)\n",
        "\n",
        "\n",
        "df.head()"
      ],
      "execution_count": null,
      "outputs": [
        {
          "output_type": "stream",
          "name": "stdout",
          "text": [
            "                                                   title  ... target\n",
            "0      As U.S. budget fight looms, Republicans flip t...  ...   real\n",
            "1      U.S. military to accept transgender recruits o...  ...   real\n",
            "2      Senior U.S. Republican senator: 'Let Mr. Muell...  ...   real\n",
            "3      FBI Russia probe helped by Australian diplomat...  ...   real\n",
            "4      Trump wants Postal Service to charge 'much mor...  ...   real\n",
            "...                                                  ...  ...    ...\n",
            "20049  Trump to meet Latin American leaders with eye ...  ...   real\n",
            "20050  Bulgarian court sentences three Syrians on ter...  ...   real\n",
            "20051  Turkey feels betrayed over EU accession but st...  ...   real\n",
            "20052  Trump says Iran is violating 'spirit' of Iran ...  ...   real\n",
            "20053  Italy's Northern League criticizes magistrates...  ...   real\n",
            "\n",
            "[20054 rows x 5 columns]\n",
            "                                                   title  ... target\n",
            "0       Donald Trump Sends Out Embarrassing New Year’...  ...   fake\n",
            "1       Drunk Bragging Trump Staffer Started Russian ...  ...   fake\n",
            "2       Sheriff David Clarke Becomes An Internet Joke...  ...   fake\n",
            "3       Trump Is So Obsessed He Even Has Obama’s Name...  ...   fake\n",
            "4       Pope Francis Just Called Out Donald Trump Dur...  ...   fake\n",
            "...                                                  ...  ...    ...\n",
            "23476  McPain: John McCain Furious That Iran Treated ...  ...   fake\n",
            "23477  JUSTICE? Yahoo Settles E-mail Privacy Class-ac...  ...   fake\n",
            "23478  Sunnistan: US and Allied ‘Safe Zone’ Plan to T...  ...   fake\n",
            "23479  How to Blow $700 Million: Al Jazeera America F...  ...   fake\n",
            "23480  10 U.S. Navy Sailors Held by Iranian Military ...  ...   fake\n",
            "\n",
            "[23481 rows x 5 columns]\n"
          ]
        },
        {
          "output_type": "execute_result",
          "data": {
            "text/html": [
              "<div>\n",
              "<style scoped>\n",
              "    .dataframe tbody tr th:only-of-type {\n",
              "        vertical-align: middle;\n",
              "    }\n",
              "\n",
              "    .dataframe tbody tr th {\n",
              "        vertical-align: top;\n",
              "    }\n",
              "\n",
              "    .dataframe thead th {\n",
              "        text-align: right;\n",
              "    }\n",
              "</style>\n",
              "<table border=\"1\" class=\"dataframe\">\n",
              "  <thead>\n",
              "    <tr style=\"text-align: right;\">\n",
              "      <th></th>\n",
              "      <th>title</th>\n",
              "      <th>text</th>\n",
              "      <th>subject</th>\n",
              "      <th>date</th>\n",
              "      <th>target</th>\n",
              "    </tr>\n",
              "  </thead>\n",
              "  <tbody>\n",
              "    <tr>\n",
              "      <th>0</th>\n",
              "      <td>As U.S. budget fight looms, Republicans flip t...</td>\n",
              "      <td>WASHINGTON (Reuters) - The head of a conservat...</td>\n",
              "      <td>politicsNews</td>\n",
              "      <td>December 31, 2017</td>\n",
              "      <td>real</td>\n",
              "    </tr>\n",
              "    <tr>\n",
              "      <th>1</th>\n",
              "      <td>U.S. military to accept transgender recruits o...</td>\n",
              "      <td>WASHINGTON (Reuters) - Transgender people will...</td>\n",
              "      <td>politicsNews</td>\n",
              "      <td>December 29, 2017</td>\n",
              "      <td>real</td>\n",
              "    </tr>\n",
              "    <tr>\n",
              "      <th>2</th>\n",
              "      <td>Senior U.S. Republican senator: 'Let Mr. Muell...</td>\n",
              "      <td>WASHINGTON (Reuters) - The special counsel inv...</td>\n",
              "      <td>politicsNews</td>\n",
              "      <td>December 31, 2017</td>\n",
              "      <td>real</td>\n",
              "    </tr>\n",
              "    <tr>\n",
              "      <th>3</th>\n",
              "      <td>FBI Russia probe helped by Australian diplomat...</td>\n",
              "      <td>WASHINGTON (Reuters) - Trump campaign adviser ...</td>\n",
              "      <td>politicsNews</td>\n",
              "      <td>December 30, 2017</td>\n",
              "      <td>real</td>\n",
              "    </tr>\n",
              "    <tr>\n",
              "      <th>4</th>\n",
              "      <td>Trump wants Postal Service to charge 'much mor...</td>\n",
              "      <td>SEATTLE/WASHINGTON (Reuters) - President Donal...</td>\n",
              "      <td>politicsNews</td>\n",
              "      <td>December 29, 2017</td>\n",
              "      <td>real</td>\n",
              "    </tr>\n",
              "  </tbody>\n",
              "</table>\n",
              "</div>"
            ],
            "text/plain": [
              "                                               title  ... target\n",
              "0  As U.S. budget fight looms, Republicans flip t...  ...   real\n",
              "1  U.S. military to accept transgender recruits o...  ...   real\n",
              "2  Senior U.S. Republican senator: 'Let Mr. Muell...  ...   real\n",
              "3  FBI Russia probe helped by Australian diplomat...  ...   real\n",
              "4  Trump wants Postal Service to charge 'much mor...  ...   real\n",
              "\n",
              "[5 rows x 5 columns]"
            ]
          },
          "metadata": {},
          "execution_count": 12
        }
      ]
    },
    {
      "cell_type": "markdown",
      "metadata": {
        "id": "ASDGVC-jev7n"
      },
      "source": [
        "Splitting the Dataset"
      ]
    },
    {
      "cell_type": "code",
      "metadata": {
        "id": "2OLp76tCey3n"
      },
      "source": [
        "#DataFlair - Split the dataset\n",
        "x_train,x_test,y_train,y_test=train_test_split(df['text'], df.target, test_size=0.2, random_state=7)"
      ],
      "execution_count": null,
      "outputs": []
    },
    {
      "cell_type": "code",
      "metadata": {
        "id": "ogPipOhAfhE9",
        "colab": {
          "base_uri": "https://localhost:8080/"
        },
        "outputId": "8e7596b1-bfee-4490-99b4-4dc5c878a806"
      },
      "source": [
        "print(x_test)"
      ],
      "execution_count": null,
      "outputs": [
        {
          "output_type": "stream",
          "name": "stdout",
          "text": [
            "26702    Conservatives in an Alabama town have decided ...\n",
            "32063        Remember when Pelosi said it s  AFFORDABLE : \n",
            "40969    This is a brilliantly written piece by Nick Sh...\n",
            "6021     MEXICO CITY (Reuters) - A Mexican official wid...\n",
            "13547    ANKARA (Reuters) - Turkish President Tayyip Er...\n",
            "                               ...                        \n",
            "24447    Democratic presidential candidate Hillary Clin...\n",
            "1335     WASHINGTON (Reuters) - A diplomatic dispute be...\n",
            "30168    Katie Couric s career has been pretty much in ...\n",
            "31077    The woman who wants to be the next Democrat ca...\n",
            "26773    Just imagine yourself at the bar with friends....\n",
            "Name: text, Length: 8707, dtype: object\n"
          ]
        }
      ]
    },
    {
      "cell_type": "code",
      "metadata": {
        "id": "8VD4VRhZfKYR"
      },
      "source": [
        "#DataFlair - Initialize a TfidfVectorizer\n",
        "tfidf_vectorizer=TfidfVectorizer(stop_words='english', max_df=0.8)\n",
        "\n",
        "#DataFlair - Fit and transform train set, transform test set\n",
        "tfidf_train=tfidf_vectorizer.fit_transform(x_train) \n",
        "tfidf_test=tfidf_vectorizer.transform(x_test)"
      ],
      "execution_count": null,
      "outputs": []
    },
    {
      "cell_type": "code",
      "metadata": {
        "id": "PmYErvGYZu2J",
        "colab": {
          "base_uri": "https://localhost:8080/"
        },
        "outputId": "7e9f787e-8ba8-4b68-eb68-98eddeff0285"
      },
      "source": [
        "print(tfidf_train)\n",
        "print(y_train)"
      ],
      "execution_count": null,
      "outputs": [
        {
          "output_type": "stream",
          "name": "stdout",
          "text": [
            "  (0, 24518)\t0.1365418823076539\n",
            "  (0, 93916)\t0.21168565050090268\n",
            "  (0, 82739)\t0.09910223258129018\n",
            "  (0, 63604)\t0.1315888800004278\n",
            "  (0, 63396)\t0.1415820491428746\n",
            "  (0, 82643)\t0.1415197376465026\n",
            "  (0, 98354)\t0.08972579766167497\n",
            "  (0, 108269)\t0.4588852378723506\n",
            "  (0, 77083)\t0.16661286451819973\n",
            "  (0, 79686)\t0.22360567818131066\n",
            "  (0, 71827)\t0.23034789761762137\n",
            "  (0, 77793)\t0.16800387561593363\n",
            "  (0, 70715)\t0.18850029996120904\n",
            "  (0, 82592)\t0.19165067086951806\n",
            "  (0, 94673)\t0.11301910673644322\n",
            "  (0, 75995)\t0.19995874357163268\n",
            "  (0, 85747)\t0.05644205261964435\n",
            "  (0, 82676)\t0.31120383621140435\n",
            "  (0, 47618)\t0.19152152428024558\n",
            "  (0, 82742)\t0.12373651735438015\n",
            "  (0, 25266)\t0.28649587176852787\n",
            "  (0, 32300)\t0.20762283610496346\n",
            "  (0, 63928)\t0.16498415879590445\n",
            "  (0, 40066)\t0.12289962578923805\n",
            "  (0, 99701)\t0.14384821299251455\n",
            "  :\t:\n",
            "  (34827, 8956)\t0.022304572770644397\n",
            "  (34827, 97420)\t0.021225961966898133\n",
            "  (34827, 76399)\t0.021010480691830917\n",
            "  (34827, 59685)\t0.03639769327879908\n",
            "  (34827, 68181)\t0.01891974852939592\n",
            "  (34827, 88236)\t0.021327179971060487\n",
            "  (34827, 13252)\t0.021215015386813335\n",
            "  (34827, 83753)\t0.016423018692204645\n",
            "  (34827, 58417)\t0.021153332896535138\n",
            "  (34827, 74672)\t0.023712529503465085\n",
            "  (34827, 53101)\t0.02141871228869966\n",
            "  (34827, 37686)\t0.0342831490109623\n",
            "  (34827, 31859)\t0.02872435124735573\n",
            "  (34827, 82739)\t0.06004314096216089\n",
            "  (34827, 98354)\t0.040771675193012134\n",
            "  (34827, 94673)\t0.03423748376015356\n",
            "  (34827, 85747)\t0.051294880549565235\n",
            "  (34827, 82742)\t0.03748416640150728\n",
            "  (34827, 25266)\t0.021697432496745953\n",
            "  (34827, 40066)\t0.018615321177065998\n",
            "  (34827, 99701)\t0.11983595292691508\n",
            "  (34827, 31907)\t0.01206937506288718\n",
            "  (34827, 77647)\t0.010575944986903828\n",
            "  (34827, 83271)\t0.02276820754048965\n",
            "  (34827, 105152)\t0.014796801051436399\n",
            "4881     real\n",
            "28784    fake\n",
            "38982    fake\n",
            "19838    real\n",
            "34531    fake\n",
            "         ... \n",
            "34140    fake\n",
            "13927    real\n",
            "919      real\n",
            "38467    fake\n",
            "10742    real\n",
            "Name: target, Length: 34828, dtype: object\n"
          ]
        }
      ]
    },
    {
      "cell_type": "code",
      "metadata": {
        "id": "aoRCb-NkfYSB",
        "colab": {
          "base_uri": "https://localhost:8080/"
        },
        "outputId": "82469a5f-0302-4be2-ce37-83ab1f343f54"
      },
      "source": [
        "#DataFlair - Initialize a PassiveAggressiveClassifier\n",
        "\n",
        "from sklearn.metrics import classification_report\n",
        "pac=PassiveAggressiveClassifier(max_iter=50)\n",
        "pac.fit(tfidf_train,y_train)\n",
        "\n",
        "#DataFlair - Predict on the test set and calculate accuracy\n",
        "y_pred_pac=pac.predict(tfidf_test)\n",
        "score=accuracy_score(y_test,y_pred_pac)\n",
        "print(f'Accuracy: {round(score*100,2)}%')\n",
        "print(classification_report(y_test, y_pred_pac))\n"
      ],
      "execution_count": null,
      "outputs": [
        {
          "output_type": "stream",
          "name": "stdout",
          "text": [
            "Accuracy: 99.48%\n",
            "              precision    recall  f1-score   support\n",
            "\n",
            "        fake       0.99      1.00      1.00      4670\n",
            "        real       0.99      0.99      0.99      4037\n",
            "\n",
            "    accuracy                           0.99      8707\n",
            "   macro avg       0.99      0.99      0.99      8707\n",
            "weighted avg       0.99      0.99      0.99      8707\n",
            "\n"
          ]
        }
      ]
    },
    {
      "cell_type": "code",
      "metadata": {
        "id": "1RvW-wGzVXw7",
        "colab": {
          "base_uri": "https://localhost:8080/"
        },
        "outputId": "270979f3-ec70-4f46-a6ec-7c2190b5dfa6"
      },
      "source": [
        "confusion_matrix(y_test,y_pred_pac,labels=['fake','real'])"
      ],
      "execution_count": null,
      "outputs": [
        {
          "output_type": "execute_result",
          "data": {
            "text/plain": [
              "array([[4649,   21],\n",
              "       [  24, 4013]])"
            ]
          },
          "metadata": {},
          "execution_count": 18
        }
      ]
    },
    {
      "cell_type": "code",
      "metadata": {
        "id": "rVeXrYnravmp",
        "colab": {
          "base_uri": "https://localhost:8080/"
        },
        "outputId": "9d88bfa2-5487-4ff6-db75-5e1bc19c9545"
      },
      "source": [
        "from sklearn.ensemble import RandomForestClassifier\n",
        "rf = RandomForestClassifier()\n",
        "rf.fit(tfidf_train,y_train)\n",
        "\n",
        "y_pred_rf = rf.predict(tfidf_test)\n",
        "score=accuracy_score(y_test,y_pred_rf)\n",
        "print(f'Accuracy: {round(score*100,2)}%')\n",
        "print(classification_report(y_test, y_pred_rf))\n",
        "confusion_matrix(y_test,y_pred_rf,labels=['fake','real'])\n",
        "\n"
      ],
      "execution_count": null,
      "outputs": [
        {
          "output_type": "stream",
          "name": "stdout",
          "text": [
            "Accuracy: 99.23%\n",
            "              precision    recall  f1-score   support\n",
            "\n",
            "        fake       0.99      0.99      0.99      4670\n",
            "        real       0.99      0.99      0.99      4037\n",
            "\n",
            "    accuracy                           0.99      8707\n",
            "   macro avg       0.99      0.99      0.99      8707\n",
            "weighted avg       0.99      0.99      0.99      8707\n",
            "\n"
          ]
        },
        {
          "output_type": "execute_result",
          "data": {
            "text/plain": [
              "array([[4631,   39],\n",
              "       [  28, 4009]])"
            ]
          },
          "metadata": {},
          "execution_count": 19
        }
      ]
    },
    {
      "cell_type": "code",
      "metadata": {
        "id": "ryJkZlYxeUeo",
        "colab": {
          "base_uri": "https://localhost:8080/"
        },
        "outputId": "8a267a4b-7f0e-4534-a18d-21aa1fe7043d"
      },
      "source": [
        "from sklearn.linear_model import LogisticRegression\n",
        "lr = LogisticRegression()\n",
        "lr.fit(tfidf_train,y_train)\n",
        "\n",
        "y_pred_lr = lr.predict(tfidf_test)\n",
        "score=accuracy_score(y_test,y_pred_lr)\n",
        "print(f'Accuracy: {round(score*100,2)}%')\n",
        "print(classification_report(y_test, y_pred_lr))\n",
        "confusion_matrix(y_test,y_pred_lr,labels=['fake','real'])"
      ],
      "execution_count": null,
      "outputs": [
        {
          "output_type": "stream",
          "name": "stdout",
          "text": [
            "Accuracy: 98.54%\n",
            "              precision    recall  f1-score   support\n",
            "\n",
            "        fake       0.99      0.98      0.99      4670\n",
            "        real       0.98      0.99      0.98      4037\n",
            "\n",
            "    accuracy                           0.99      8707\n",
            "   macro avg       0.99      0.99      0.99      8707\n",
            "weighted avg       0.99      0.99      0.99      8707\n",
            "\n"
          ]
        },
        {
          "output_type": "execute_result",
          "data": {
            "text/plain": [
              "array([[4596,   74],\n",
              "       [  53, 3984]])"
            ]
          },
          "metadata": {},
          "execution_count": 20
        }
      ]
    },
    {
      "cell_type": "code",
      "metadata": {
        "id": "4yKuFmIQfx57"
      },
      "source": [
        "demo = pd.Series(['A total of 52 Congress leaders including former Congress president Rahul Gandhi, Chhattisgarh Chief Minister Bhupesh Baghel, Punjab CM Charanjit Singh Channi and senior party leader P Chidambaram participated in the meeting. Five leaders including Digvijaya Singh and Dr Manmohan Singh could not attend the meeting.'])"
      ],
      "execution_count": null,
      "outputs": []
    },
    {
      "cell_type": "code",
      "metadata": {
        "id": "EZoYeWkl2yji",
        "colab": {
          "base_uri": "https://localhost:8080/"
        },
        "outputId": "83994725-7455-4b5f-92e7-4a26fef7aed7"
      },
      "source": [
        "trueNewsCheck = pd.Series(['Suicide bomb near cricket stadium in Afghan capital kills at least three'])\n",
        "tfidf_trueNewsCheck = tfidf_vectorizer.transform(trueNewsCheck)\n",
        "y_trueNewsCheck = pac.predict(tfidf_trueNewsCheck)\n",
        "print(y_trueNewsCheck)"
      ],
      "execution_count": null,
      "outputs": [
        {
          "output_type": "stream",
          "name": "stdout",
          "text": [
            "['fake']\n"
          ]
        }
      ]
    },
    {
      "cell_type": "code",
      "metadata": {
        "id": "LzN2LA4p7WXw",
        "colab": {
          "base_uri": "https://localhost:8080/"
        },
        "outputId": "1ec32f0e-4b04-4d17-d2ca-dfbe616d102f"
      },
      "source": [
        "trueNewsCheck2 = pd.Series(['KABUL (Reuters) - A suicide bomber blew himself up at a checkpoint near the main cricket stadium in the Afghan capital Kabul on Wednesday, killing at least three people as a tournament was under way, officials said. Interior Ministry spokesman Najib Danesh said two police and one civilian were killed and five people wounded. Local Tolo News Television quoted the Afghan Cricket Board as saying all players were safe. The blast outside Kabul International Cricket Stadium took place during a match in Afghanistan s Shpageeza Cricket League, a T20 franchise tournament on the lines of the Indian Premier League and similar 20-over tournaments. A statement in Bosnian on Islamic State s Amaq news agency said a suicide attack had been carried out on members of the Afghan security forces in Kabul ,  although it was not immediately clear whether the statement referred to the same incident. The Shpageeza tournament, now in its fifth season, is one of a small number of Western-style sports competitions along with Afghan Premier League football that have grown up since a U.S.-led campaign toppled the Taliban in 2001. A small number of foreign players are also taking part in the competition. Cricket, which spread from refugee camps in Pakistan, has become one of Afghanistan s most popular sports and the national team has become increasingly successful, raising the profile of the game. '])\n",
        "tfidf_trueNewsCheck2 = tfidf_vectorizer.transform(trueNewsCheck2)\n",
        "y_trueNewsCheck2 = pac.predict(tfidf_trueNewsCheck2)\n",
        "print(y_trueNewsCheck2)"
      ],
      "execution_count": null,
      "outputs": [
        {
          "output_type": "stream",
          "name": "stdout",
          "text": [
            "['real']\n"
          ]
        }
      ]
    },
    {
      "cell_type": "code",
      "metadata": {
        "id": "bfInRVDC7pie",
        "colab": {
          "base_uri": "https://localhost:8080/"
        },
        "outputId": "757407bb-2ada-488b-f098-36984bd155df"
      },
      "source": [
        "trueNewsCheck3 = pd.Series(['LONDON (Reuters) - The Manchester music venue where a suicide bomber killed 22 people as they left an Ariana Grande concert in May will reopen on Saturday for the first time since the attack. A benefit concert entitled  We Are Manchester  will raise money for a charitable trust in charge of establishing a permanent memorial in the northern English city. The victims of the May 22 attack at the Manchester Arena included many young girls, who make up a large part of U.S. singer Grande s fan base. The youngest, Saffie Roussos, was aged eight.  Parents who had come to pick up their children after the show were also among those killed in the attack carried out by Salman Abedi.  May s events will never be forgotten, but they will not stop us, or Mancunian music fans, from coming together to enjoy live music,  James Allen, the venue s general manager, said in a statement. The line-up for Saturday s concert, which was sold out, included Noel Gallagher, formerly of Oasis, one of the most successful bands to emerge from Manchester. Also performing will be local poet Tony Walsh, known as Longfella, who moved crowds to tears at a vigil in central Manchester the day after the attack with his poem  This Is The Place  which celebrates the spirit of the city. Grande will not take part, having performed at a previous benefit concert,  One Love Manchester , which raised funds for victims. The June 4 concert, which took place at a cricket ground in Manchester, also featured artists including Justin Bieber, Coldplay, Miley Cyrus and Pharrell Williams. '])\n",
        "tfidf_trueNewsCheck3 = tfidf_vectorizer.transform(trueNewsCheck3)\n",
        "y_trueNewsCheck3 = pac.predict(tfidf_trueNewsCheck3)\n",
        "print(y_trueNewsCheck3)"
      ],
      "execution_count": null,
      "outputs": [
        {
          "output_type": "stream",
          "name": "stdout",
          "text": [
            "['fake']\n"
          ]
        }
      ]
    },
    {
      "cell_type": "code",
      "metadata": {
        "id": "g4Jbsc3I2yVt",
        "colab": {
          "base_uri": "https://localhost:8080/"
        },
        "outputId": "97d97862-b265-41bc-9b6a-a600fb9e0c18"
      },
      "source": [
        "fakeNewsCheck = pd.Series(['During game 1 of the WNBA Finals, the LA Sparks WNBA Nneka Ogwumike claimed to be inspired by the cowardly act of Pittsburgh Steelers coach Mike Tomlin, when he chose to hide from the cameras rather than take a stand one way or the other on the national anthem, and stayed in the tunnel during the playing of the national anthem:The LA Sparks will take the lead of Steelers coach Mike Tomlin today, Nneka Ogwumike said, and stay in the locker room during the anthem.  Lindsey Thiry (@LindseyThiry) September 24, 2017Meanwhile, the Minnesota Lynx team showed their disrespect for the national anthem by linking arms in protest while it was being played.The LA Sparks team stayed in the locker room.The scene at Game 1 of the WNBA Finals. The Lynx link arms during the anthem, the Sparks stay in the locker room. pic.twitter.com/jckFULAvux  Lindsey Thiry (@LindseyThiry) September 24, 2017In game 2 of the WNBA Finals, the LA Sparks decided to leave the floor and head to the locker room for the national anthem. They were booed as they left the floor.Sparks booed as they leave the floor for the playing of the national anthem here in Minneapolis.  Lindsey Thiry (@LindseyThiry) September 27, 2017The LA Sparks were booed again as they returned from the locker room:Sparks booed as they retake the floor after the singing of the national anthem in Minneapolis. pic.twitter.com/upZTj4bDMb  Lindsey Thiry (@LindseyThiry) September 27, 2017'])\n",
        "tfidf_fakeNewsCheck = tfidf_vectorizer.transform(fakeNewsCheck)\n",
        "y_fakeNewsCheck = pac.predict(tfidf_fakeNewsCheck)\n",
        "print(y_fakeNewsCheck)"
      ],
      "execution_count": null,
      "outputs": [
        {
          "output_type": "stream",
          "name": "stdout",
          "text": [
            "['fake']\n"
          ]
        }
      ]
    },
    {
      "cell_type": "code",
      "metadata": {
        "id": "08DmEWuAg5j2",
        "colab": {
          "base_uri": "https://localhost:8080/"
        },
        "outputId": "d6bb977c-7331-475b-fdaa-e69786c4c39d"
      },
      "source": [
        "tfidf_demo = tfidf_vectorizer.transform(demo)\n",
        "y_demo = pac.predict(tfidf_demo)\n",
        "print(y_demo)"
      ],
      "execution_count": null,
      "outputs": [
        {
          "output_type": "stream",
          "name": "stdout",
          "text": [
            "['real']\n"
          ]
        }
      ]
    }
  ]
}